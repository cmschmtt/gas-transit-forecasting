{
 "cells": [
  {
   "cell_type": "markdown",
   "id": "045d6979-72e9-4b70-91fa-1e5f22977b97",
   "metadata": {},
   "source": [
    "# AQI pre-processing\n",
    "\n",
    "At over 5 million rows, the air quality index dataset is too large to upload to github natively. In this notebook we chop up the country-level data into state-level files.\n",
    "\n",
    "The original file can be downloaded [from kaggle](https://www.kaggle.com/datasets/calebreigada/us-air-quality-1980present).\n",
    "\n",
    "---"
   ]
  },
  {
   "cell_type": "markdown",
   "id": "32520855-d1b3-4e02-b13f-ff89764c7a88",
   "metadata": {},
   "source": [
    "#### Imports & intro\n",
    "\n",
    "Below we import pandas, os, and the data, and we preliminarily explore the problematically large csv:"
   ]
  },
  {
   "cell_type": "code",
   "execution_count": 1,
   "id": "394790ee-f9c6-461a-bbdf-326f38fcdb2c",
   "metadata": {},
   "outputs": [
    {
     "data": {
      "text/plain": [
       "(5617325, 15)"
      ]
     },
     "execution_count": 1,
     "metadata": {},
     "output_type": "execute_result"
    }
   ],
   "source": [
    "import os\n",
    "import pandas as pd\n",
    "\n",
    "aqi = pd.read_csv('../../Data/raw/US_AQI.csv')\n",
    "aqi.shape"
   ]
  },
  {
   "cell_type": "markdown",
   "id": "995abe56-aa08-46a8-be5c-f72b66c8b97e",
   "metadata": {},
   "source": [
    "The AQI dataset has a state ID column. There are no missing or null values in `state_id`, and there are 52 different state ID codes, one for each of the 50 states + Puerto Rico + the District of Columbia:"
   ]
  },
  {
   "cell_type": "code",
   "execution_count": 2,
   "id": "18465752-c70a-44d9-a247-dc0a908cc322",
   "metadata": {},
   "outputs": [
    {
     "data": {
      "text/plain": [
       "0"
      ]
     },
     "execution_count": 2,
     "metadata": {},
     "output_type": "execute_result"
    }
   ],
   "source": [
    "aqi['state_id'].isnull().sum()"
   ]
  },
  {
   "cell_type": "code",
   "execution_count": 3,
   "id": "78920ecf-9c9e-4be1-bf27-e8900228f62c",
   "metadata": {},
   "outputs": [
    {
     "data": {
      "text/plain": [
       "52"
      ]
     },
     "execution_count": 3,
     "metadata": {},
     "output_type": "execute_result"
    }
   ],
   "source": [
    "len(set(aqi['state_id']))"
   ]
  },
  {
   "cell_type": "code",
   "execution_count": 9,
   "id": "0f15e3b7-db21-4580-8634-0cb75827e140",
   "metadata": {},
   "outputs": [
    {
     "data": {
      "text/plain": [
       "671"
      ]
     },
     "execution_count": 9,
     "metadata": {},
     "output_type": "execute_result"
    }
   ],
   "source": [
    "len(set(aqi['CBSA Code']))"
   ]
  },
  {
   "cell_type": "code",
   "execution_count": 10,
   "id": "03aca552-c2a6-4844-9092-29e7debfd9c2",
   "metadata": {},
   "outputs": [
    {
     "data": {
      "text/plain": [
       "36540    15492\n",
       "40140    15492\n",
       "19380    15462\n",
       "Name: CBSA Code, dtype: int64"
      ]
     },
     "execution_count": 10,
     "metadata": {},
     "output_type": "execute_result"
    }
   ],
   "source": [
    "aqi['CBSA Code'].value_counts().sort_values(ascending=False).head(3)"
   ]
  },
  {
   "cell_type": "code",
   "execution_count": 12,
   "id": "31a1b455-44c0-4b84-988e-511efa7942f6",
   "metadata": {},
   "outputs": [
    {
     "data": {
      "text/html": [
       "<div>\n",
       "<style scoped>\n",
       "    .dataframe tbody tr th:only-of-type {\n",
       "        vertical-align: middle;\n",
       "    }\n",
       "\n",
       "    .dataframe tbody tr th {\n",
       "        vertical-align: top;\n",
       "    }\n",
       "\n",
       "    .dataframe thead th {\n",
       "        text-align: right;\n",
       "    }\n",
       "</style>\n",
       "<table border=\"1\" class=\"dataframe\">\n",
       "  <thead>\n",
       "    <tr style=\"text-align: right;\">\n",
       "      <th></th>\n",
       "      <th>Unnamed: 0</th>\n",
       "      <th>CBSA Code</th>\n",
       "      <th>Date</th>\n",
       "      <th>AQI</th>\n",
       "      <th>Category</th>\n",
       "      <th>Defining Parameter</th>\n",
       "      <th>Number of Sites Reporting</th>\n",
       "      <th>city_ascii</th>\n",
       "      <th>state_id</th>\n",
       "      <th>state_name</th>\n",
       "      <th>lat</th>\n",
       "      <th>lng</th>\n",
       "      <th>population</th>\n",
       "      <th>density</th>\n",
       "      <th>timezone</th>\n",
       "    </tr>\n",
       "  </thead>\n",
       "  <tbody>\n",
       "  </tbody>\n",
       "</table>\n",
       "</div>"
      ],
      "text/plain": [
       "Empty DataFrame\n",
       "Columns: [Unnamed: 0, CBSA Code, Date, AQI, Category, Defining Parameter, Number of Sites Reporting, city_ascii, state_id, state_name, lat, lng, population, density, timezone]\n",
       "Index: []"
      ]
     },
     "execution_count": 12,
     "metadata": {},
     "output_type": "execute_result"
    }
   ],
   "source": [
    "aqi[aqi['CBSA Code'] == 80389].head()"
   ]
  },
  {
   "cell_type": "markdown",
   "id": "bca8dddd-287c-4ea9-9b3b-090332b2e00b",
   "metadata": {},
   "source": [
    "#### Subdividing into state-level files:\n",
    "\n",
    "What if we just chopped this up into 52 datasets...?\n",
    "\n",
    "We need to stay under ~100MB/file~ 50MB/file..."
   ]
  },
  {
   "cell_type": "code",
   "execution_count": 4,
   "id": "0e4e7457-1e9d-4e3d-b72c-a4a8c0536556",
   "metadata": {},
   "outputs": [
    {
     "data": {
      "text/plain": [
       "611.27"
      ]
     },
     "execution_count": 4,
     "metadata": {},
     "output_type": "execute_result"
    }
   ],
   "source": [
    "# o.g. file is about 611 MB:\n",
    "round(os.path.getsize('../../Data/raw/US_AQI.csv') / (1024 * 1024), 2)"
   ]
  },
  {
   "cell_type": "code",
   "execution_count": 17,
   "id": "2accf4fd-ef8d-4d3c-85d9-7a0d56ecddb7",
   "metadata": {},
   "outputs": [],
   "source": [
    "# make set of ID codes:\n",
    "state_id_codes = set(aqi['state_id'])\n",
    "\n",
    "# dictionary of ID codes - dataframe\n",
    "# using a dictionary is convenient for the file export later\n",
    "state_id_dataframes = {\n",
    "    state_id: aqi[aqi['state_id'] == state_id] for state_id in state_id_codes\n",
    "}\n",
    "\n",
    "# make subdirectory if it doesn't exist\n",
    "os.makedirs('aqi_by_state/', exist_ok=True)\n",
    "\n",
    "# iterate over ID code set and use string dict key as file name to export:\n",
    "for state_id in state_id_codes:\n",
    "    state_id_dataframes[state_id].to_csv(\n",
    "        f'aqi_by_state/{state_id}.csv',\n",
    "        index=False,\n",
    "        compression='gzip'\n",
    "    )"
   ]
  },
  {
   "cell_type": "markdown",
   "id": "cba7a02a-2935-4b2a-917c-f5625d60d33c",
   "metadata": {},
   "source": [
    "California was too big without compression, but compressing brings the filesize down -- down enough I wonder if just uploading a zip-compressed version of the original file might work..."
   ]
  },
  {
   "cell_type": "code",
   "execution_count": 11,
   "id": "e6e07993-cc6d-41af-a1e3-db9a01a6f911",
   "metadata": {},
   "outputs": [
    {
     "name": "stdout",
     "output_type": "stream",
     "text": [
      "AK.csv: 0.27\n",
      "AL.csv: 0.85\n",
      "AR.csv: 0.46\n",
      "AZ.csv: 0.81\n",
      "CA.csv: 3.48\n",
      "CO.csv: 1.02\n",
      "CT.csv: 0.49\n",
      "DC.csv: 0.12\n",
      "DE.csv: 0.08\n",
      "FL.csv: 1.64\n",
      "GA.csv: 0.91\n",
      "HI.csv: 0.17\n",
      "IA.csv: 0.79\n",
      "ID.csv: 0.45\n",
      "IL.csv: 1.02\n",
      "IN.csv: 1.21\n",
      "KS.csv: 0.3\n",
      "KY.csv: 0.71\n",
      "LA.csv: 0.89\n",
      "MA.csv: 0.45\n",
      "MD.csv: 0.36\n",
      "ME.csv: 0.38\n",
      "MI.csv: 1.15\n",
      "MN.csv: 0.56\n",
      "MO.csv: 0.57\n",
      "MS.csv: 0.55\n",
      "MT.csv: 0.63\n",
      "NC.csv: 1.34\n",
      "ND.csv: 0.29\n",
      "NE.csv: 0.3\n",
      "NH.csv: 0.44\n",
      "NJ.csv: 0.33\n",
      "NM.csv: 0.81\n",
      "NV.csv: 0.55\n",
      "NY.csv: 1.12\n",
      "OH.csv: 1.66\n",
      "OK.csv: 0.7\n",
      "OR.csv: 1.06\n",
      "PA.csv: 1.99\n",
      "PR.csv: 0.2\n",
      "RI.csv: 0.12\n",
      "SC.csv: 0.88\n",
      "SD.csv: 0.28\n",
      "TN.csv: 1.13\n",
      "TX.csv: 1.7\n",
      "UT.csv: 0.54\n",
      "VA.csv: 0.63\n",
      "VT.csv: 0.2\n",
      "WA.csv: 1.27\n",
      "WI.csv: 1.15\n",
      "WV.csv: 0.63\n",
      "WY.csv: 0.56\n"
     ]
    }
   ],
   "source": [
    "# subdirectory filepath\n",
    "filepath = 'aqi_by_state/'\n",
    "\n",
    "# just printin' there's only 52 of 'em after all:\n",
    "for file in os.listdir(filepath):\n",
    "    filesize = os.path.getsize(filepath + file) / (1024 * 1024)\n",
    "    print(f'{file}: {round(filesize, 2)}')"
   ]
  },
  {
   "cell_type": "code",
   "execution_count": 12,
   "id": "3af0bea7-4b8a-4634-8329-a1789bc9ecb5",
   "metadata": {},
   "outputs": [
    {
     "data": {
      "text/plain": [
       "40.20291233062744"
      ]
     },
     "execution_count": 12,
     "metadata": {},
     "output_type": "execute_result"
    }
   ],
   "source": [
    "sum([os.path.getsize(filepath + file) for file in os.listdir(filepath)]) / (1024 * 1024)"
   ]
  },
  {
   "cell_type": "code",
   "execution_count": 13,
   "id": "5469c13d-300f-4194-8f94-916eeadb7495",
   "metadata": {},
   "outputs": [],
   "source": [
    "aqi.to_csv('aqi-zip.csv', index=False, compression='gzip')"
   ]
  },
  {
   "cell_type": "code",
   "execution_count": 14,
   "id": "2d07e79e-a0f5-47fa-b458-739898d73cfb",
   "metadata": {},
   "outputs": [
    {
     "data": {
      "text/plain": [
       "40.77420425415039"
      ]
     },
     "execution_count": 14,
     "metadata": {},
     "output_type": "execute_result"
    }
   ],
   "source": [
    "os.path.getsize('aqi-zip.csv') / (1024 * 1024)"
   ]
  },
  {
   "cell_type": "code",
   "execution_count": 16,
   "id": "8d455c2b-2fd5-487c-b663-785fe7f23ca0",
   "metadata": {},
   "outputs": [
    {
     "data": {
      "text/html": [
       "<div>\n",
       "<style scoped>\n",
       "    .dataframe tbody tr th:only-of-type {\n",
       "        vertical-align: middle;\n",
       "    }\n",
       "\n",
       "    .dataframe tbody tr th {\n",
       "        vertical-align: top;\n",
       "    }\n",
       "\n",
       "    .dataframe thead th {\n",
       "        text-align: right;\n",
       "    }\n",
       "</style>\n",
       "<table border=\"1\" class=\"dataframe\">\n",
       "  <thead>\n",
       "    <tr style=\"text-align: right;\">\n",
       "      <th></th>\n",
       "      <th>Unnamed: 0</th>\n",
       "      <th>CBSA Code</th>\n",
       "      <th>Date</th>\n",
       "      <th>AQI</th>\n",
       "      <th>Category</th>\n",
       "      <th>Defining Parameter</th>\n",
       "      <th>Number of Sites Reporting</th>\n",
       "      <th>city_ascii</th>\n",
       "      <th>state_id</th>\n",
       "      <th>state_name</th>\n",
       "      <th>lat</th>\n",
       "      <th>lng</th>\n",
       "      <th>population</th>\n",
       "      <th>density</th>\n",
       "      <th>timezone</th>\n",
       "    </tr>\n",
       "  </thead>\n",
       "  <tbody>\n",
       "    <tr>\n",
       "      <th>0</th>\n",
       "      <td>0</td>\n",
       "      <td>10140</td>\n",
       "      <td>2022-01-01</td>\n",
       "      <td>21</td>\n",
       "      <td>Good</td>\n",
       "      <td>PM2.5</td>\n",
       "      <td>2</td>\n",
       "      <td>Aberdeen</td>\n",
       "      <td>WA</td>\n",
       "      <td>Washington</td>\n",
       "      <td>46.9757</td>\n",
       "      <td>-123.8094</td>\n",
       "      <td>16571.0</td>\n",
       "      <td>588.0</td>\n",
       "      <td>America/Los_Angeles</td>\n",
       "    </tr>\n",
       "    <tr>\n",
       "      <th>1</th>\n",
       "      <td>1</td>\n",
       "      <td>10140</td>\n",
       "      <td>2022-01-02</td>\n",
       "      <td>12</td>\n",
       "      <td>Good</td>\n",
       "      <td>PM2.5</td>\n",
       "      <td>2</td>\n",
       "      <td>Aberdeen</td>\n",
       "      <td>WA</td>\n",
       "      <td>Washington</td>\n",
       "      <td>46.9757</td>\n",
       "      <td>-123.8094</td>\n",
       "      <td>16571.0</td>\n",
       "      <td>588.0</td>\n",
       "      <td>America/Los_Angeles</td>\n",
       "    </tr>\n",
       "    <tr>\n",
       "      <th>2</th>\n",
       "      <td>2</td>\n",
       "      <td>10140</td>\n",
       "      <td>2022-01-03</td>\n",
       "      <td>18</td>\n",
       "      <td>Good</td>\n",
       "      <td>PM2.5</td>\n",
       "      <td>2</td>\n",
       "      <td>Aberdeen</td>\n",
       "      <td>WA</td>\n",
       "      <td>Washington</td>\n",
       "      <td>46.9757</td>\n",
       "      <td>-123.8094</td>\n",
       "      <td>16571.0</td>\n",
       "      <td>588.0</td>\n",
       "      <td>America/Los_Angeles</td>\n",
       "    </tr>\n",
       "    <tr>\n",
       "      <th>3</th>\n",
       "      <td>3</td>\n",
       "      <td>10140</td>\n",
       "      <td>2022-01-04</td>\n",
       "      <td>19</td>\n",
       "      <td>Good</td>\n",
       "      <td>PM2.5</td>\n",
       "      <td>2</td>\n",
       "      <td>Aberdeen</td>\n",
       "      <td>WA</td>\n",
       "      <td>Washington</td>\n",
       "      <td>46.9757</td>\n",
       "      <td>-123.8094</td>\n",
       "      <td>16571.0</td>\n",
       "      <td>588.0</td>\n",
       "      <td>America/Los_Angeles</td>\n",
       "    </tr>\n",
       "    <tr>\n",
       "      <th>4</th>\n",
       "      <td>4</td>\n",
       "      <td>10140</td>\n",
       "      <td>2022-01-05</td>\n",
       "      <td>17</td>\n",
       "      <td>Good</td>\n",
       "      <td>PM2.5</td>\n",
       "      <td>2</td>\n",
       "      <td>Aberdeen</td>\n",
       "      <td>WA</td>\n",
       "      <td>Washington</td>\n",
       "      <td>46.9757</td>\n",
       "      <td>-123.8094</td>\n",
       "      <td>16571.0</td>\n",
       "      <td>588.0</td>\n",
       "      <td>America/Los_Angeles</td>\n",
       "    </tr>\n",
       "    <tr>\n",
       "      <th>...</th>\n",
       "      <td>...</td>\n",
       "      <td>...</td>\n",
       "      <td>...</td>\n",
       "      <td>...</td>\n",
       "      <td>...</td>\n",
       "      <td>...</td>\n",
       "      <td>...</td>\n",
       "      <td>...</td>\n",
       "      <td>...</td>\n",
       "      <td>...</td>\n",
       "      <td>...</td>\n",
       "      <td>...</td>\n",
       "      <td>...</td>\n",
       "      <td>...</td>\n",
       "      <td>...</td>\n",
       "    </tr>\n",
       "    <tr>\n",
       "      <th>5617320</th>\n",
       "      <td>5718366</td>\n",
       "      <td>49740</td>\n",
       "      <td>1980-12-27</td>\n",
       "      <td>52</td>\n",
       "      <td>Moderate</td>\n",
       "      <td>CO</td>\n",
       "      <td>1</td>\n",
       "      <td>Yuma</td>\n",
       "      <td>AZ</td>\n",
       "      <td>Arizona</td>\n",
       "      <td>32.5995</td>\n",
       "      <td>-114.5491</td>\n",
       "      <td>137612.0</td>\n",
       "      <td>311.0</td>\n",
       "      <td>America/Phoenix</td>\n",
       "    </tr>\n",
       "    <tr>\n",
       "      <th>5617321</th>\n",
       "      <td>5718367</td>\n",
       "      <td>49740</td>\n",
       "      <td>1980-12-28</td>\n",
       "      <td>52</td>\n",
       "      <td>Moderate</td>\n",
       "      <td>CO</td>\n",
       "      <td>1</td>\n",
       "      <td>Yuma</td>\n",
       "      <td>AZ</td>\n",
       "      <td>Arizona</td>\n",
       "      <td>32.5995</td>\n",
       "      <td>-114.5491</td>\n",
       "      <td>137612.0</td>\n",
       "      <td>311.0</td>\n",
       "      <td>America/Phoenix</td>\n",
       "    </tr>\n",
       "    <tr>\n",
       "      <th>5617322</th>\n",
       "      <td>5718368</td>\n",
       "      <td>49740</td>\n",
       "      <td>1980-12-29</td>\n",
       "      <td>24</td>\n",
       "      <td>Good</td>\n",
       "      <td>CO</td>\n",
       "      <td>1</td>\n",
       "      <td>Yuma</td>\n",
       "      <td>AZ</td>\n",
       "      <td>Arizona</td>\n",
       "      <td>32.5995</td>\n",
       "      <td>-114.5491</td>\n",
       "      <td>137612.0</td>\n",
       "      <td>311.0</td>\n",
       "      <td>America/Phoenix</td>\n",
       "    </tr>\n",
       "    <tr>\n",
       "      <th>5617323</th>\n",
       "      <td>5718369</td>\n",
       "      <td>49740</td>\n",
       "      <td>1980-12-30</td>\n",
       "      <td>14</td>\n",
       "      <td>Good</td>\n",
       "      <td>CO</td>\n",
       "      <td>1</td>\n",
       "      <td>Yuma</td>\n",
       "      <td>AZ</td>\n",
       "      <td>Arizona</td>\n",
       "      <td>32.5995</td>\n",
       "      <td>-114.5491</td>\n",
       "      <td>137612.0</td>\n",
       "      <td>311.0</td>\n",
       "      <td>America/Phoenix</td>\n",
       "    </tr>\n",
       "    <tr>\n",
       "      <th>5617324</th>\n",
       "      <td>5718370</td>\n",
       "      <td>49740</td>\n",
       "      <td>1980-12-31</td>\n",
       "      <td>24</td>\n",
       "      <td>Good</td>\n",
       "      <td>CO</td>\n",
       "      <td>1</td>\n",
       "      <td>Yuma</td>\n",
       "      <td>AZ</td>\n",
       "      <td>Arizona</td>\n",
       "      <td>32.5995</td>\n",
       "      <td>-114.5491</td>\n",
       "      <td>137612.0</td>\n",
       "      <td>311.0</td>\n",
       "      <td>America/Phoenix</td>\n",
       "    </tr>\n",
       "  </tbody>\n",
       "</table>\n",
       "<p>5617325 rows × 15 columns</p>\n",
       "</div>"
      ],
      "text/plain": [
       "         Unnamed: 0  CBSA Code        Date  AQI  Category Defining Parameter  \\\n",
       "0                 0      10140  2022-01-01   21      Good              PM2.5   \n",
       "1                 1      10140  2022-01-02   12      Good              PM2.5   \n",
       "2                 2      10140  2022-01-03   18      Good              PM2.5   \n",
       "3                 3      10140  2022-01-04   19      Good              PM2.5   \n",
       "4                 4      10140  2022-01-05   17      Good              PM2.5   \n",
       "...             ...        ...         ...  ...       ...                ...   \n",
       "5617320     5718366      49740  1980-12-27   52  Moderate                 CO   \n",
       "5617321     5718367      49740  1980-12-28   52  Moderate                 CO   \n",
       "5617322     5718368      49740  1980-12-29   24      Good                 CO   \n",
       "5617323     5718369      49740  1980-12-30   14      Good                 CO   \n",
       "5617324     5718370      49740  1980-12-31   24      Good                 CO   \n",
       "\n",
       "         Number of Sites Reporting city_ascii state_id  state_name      lat  \\\n",
       "0                                2   Aberdeen       WA  Washington  46.9757   \n",
       "1                                2   Aberdeen       WA  Washington  46.9757   \n",
       "2                                2   Aberdeen       WA  Washington  46.9757   \n",
       "3                                2   Aberdeen       WA  Washington  46.9757   \n",
       "4                                2   Aberdeen       WA  Washington  46.9757   \n",
       "...                            ...        ...      ...         ...      ...   \n",
       "5617320                          1       Yuma       AZ     Arizona  32.5995   \n",
       "5617321                          1       Yuma       AZ     Arizona  32.5995   \n",
       "5617322                          1       Yuma       AZ     Arizona  32.5995   \n",
       "5617323                          1       Yuma       AZ     Arizona  32.5995   \n",
       "5617324                          1       Yuma       AZ     Arizona  32.5995   \n",
       "\n",
       "              lng  population  density             timezone  \n",
       "0       -123.8094     16571.0    588.0  America/Los_Angeles  \n",
       "1       -123.8094     16571.0    588.0  America/Los_Angeles  \n",
       "2       -123.8094     16571.0    588.0  America/Los_Angeles  \n",
       "3       -123.8094     16571.0    588.0  America/Los_Angeles  \n",
       "4       -123.8094     16571.0    588.0  America/Los_Angeles  \n",
       "...           ...         ...      ...                  ...  \n",
       "5617320 -114.5491    137612.0    311.0      America/Phoenix  \n",
       "5617321 -114.5491    137612.0    311.0      America/Phoenix  \n",
       "5617322 -114.5491    137612.0    311.0      America/Phoenix  \n",
       "5617323 -114.5491    137612.0    311.0      America/Phoenix  \n",
       "5617324 -114.5491    137612.0    311.0      America/Phoenix  \n",
       "\n",
       "[5617325 rows x 15 columns]"
      ]
     },
     "execution_count": 16,
     "metadata": {},
     "output_type": "execute_result"
    }
   ],
   "source": [
    "pd.read_csv('aqi-zip.csv', compression='gzip')"
   ]
  },
  {
   "cell_type": "code",
   "execution_count": 7,
   "id": "d51c0f9d-49b2-4859-95f8-43f84204ca7c",
   "metadata": {},
   "outputs": [],
   "source": [
    "# move the folder to its new location\n",
    "os.rename('aqi_by_state/', '../../Data/raw/aqi_by_state/')"
   ]
  }
 ],
 "metadata": {
  "kernelspec": {
   "display_name": "Python 3 (ipykernel)",
   "language": "python",
   "name": "python3"
  },
  "language_info": {
   "codemirror_mode": {
    "name": "ipython",
    "version": 3
   },
   "file_extension": ".py",
   "mimetype": "text/x-python",
   "name": "python",
   "nbconvert_exporter": "python",
   "pygments_lexer": "ipython3",
   "version": "3.8.8"
  }
 },
 "nbformat": 4,
 "nbformat_minor": 5
}
