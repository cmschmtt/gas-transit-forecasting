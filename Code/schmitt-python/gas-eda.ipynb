{
 "cells": [
  {
   "cell_type": "markdown",
   "id": "9220ab31-9460-42f7-86e5-2c0420fe7bc2",
   "metadata": {},
   "source": [
    "# Pre-processing gas"
   ]
  },
  {
   "cell_type": "code",
   "execution_count": 3,
   "id": "9ee978ed-e3f7-41fa-8289-2fe05723c2c8",
   "metadata": {},
   "outputs": [],
   "source": [
    "import pandas as pd\n",
    "import matplotlib.pyplot as plt"
   ]
  },
  {
   "cell_type": "code",
   "execution_count": 5,
   "id": "2200a617-1267-4bfd-b749-f06c61f46d6f",
   "metadata": {},
   "outputs": [],
   "source": [
    "# gas = pd.read_csv('../../Data/raw/PET_PRI_GND_DCUS_NUS_W.csv')\n",
    "# gas.index = pd.to_datetime(gas['Date'])\n",
    "# gas = gas[['A1']]"
   ]
  },
  {
   "cell_type": "code",
   "execution_count": null,
   "id": "11e10f97-db78-46d6-bb60-61afa9ae5384",
   "metadata": {},
   "outputs": [],
   "source": [
    "gas = gas['2002':]"
   ]
  },
  {
   "cell_type": "code",
   "execution_count": null,
   "id": "f6004866-bd84-4346-aaaf-52cffb218f63",
   "metadata": {},
   "outputs": [],
   "source": [
    "gas = gas.resample('M').mean()"
   ]
  },
  {
   "cell_type": "code",
   "execution_count": null,
   "id": "77bab08f-ed61-40d3-82dd-ac8241a3c073",
   "metadata": {},
   "outputs": [],
   "source": [
    "plt.figure(figsize=(8,6))\n",
    "plt.title('Average monthly all grades all formulations\\nretail gasoline price per gallon')\n",
    "plt.plot(gas)\n",
    "plt.xlabel('Year')\n",
    "plt.ylabel('Price per gallon')"
   ]
  },
  {
   "cell_type": "code",
   "execution_count": null,
   "id": "ff1671df-8979-4a62-97c6-2d1e77f264a2",
   "metadata": {},
   "outputs": [],
   "source": []
  }
 ],
 "metadata": {
  "kernelspec": {
   "display_name": "Python 3 (ipykernel)",
   "language": "python",
   "name": "python3"
  },
  "language_info": {
   "codemirror_mode": {
    "name": "ipython",
    "version": 3
   },
   "file_extension": ".py",
   "mimetype": "text/x-python",
   "name": "python",
   "nbconvert_exporter": "python",
   "pygments_lexer": "ipython3",
   "version": "3.8.8"
  }
 },
 "nbformat": 4,
 "nbformat_minor": 5
}
